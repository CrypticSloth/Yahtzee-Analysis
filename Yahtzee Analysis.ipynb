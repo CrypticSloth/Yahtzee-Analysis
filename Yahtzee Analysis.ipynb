{
 "cells": [
  {
   "cell_type": "markdown",
   "metadata": {},
   "source": [
    "# Yahtzee Analysis "
   ]
  },
  {
   "cell_type": "markdown",
   "metadata": {},
   "source": [
    "This is a Yahtzee Analysis will analyze a Yahztee Data set provided by Freethedice.com thanks to Kal.  \n",
    "You can find the data [here](http://www.freethedice.com/dataByGame.csv) and [here](http://www.freethedice.com/dataByPlayer.csv).   \n",
    "\n",
    "The first link sorts the data by Game and the second sorts by Player. We will be mainly focusing on the first data set to just gain insights on the game itself.\n",
    "\n",
    "In this analysis, I will go through 5 steps:\n",
    "1. Clean the Data\n",
    "2. Visualize the Data\n",
    "3. Gather useful insights from the Data"
   ]
  },
  {
   "cell_type": "markdown",
   "metadata": {},
   "source": [
    "### Cleaning the Data  \n",
    "\n",
    "In this section I will clean the data so that it is easier to work with. Note all code is Python 3 code.\n",
    "\n",
    "First, I made a function that grabs all of the scores from a column of strings and converts those numbers into an int:"
   ]
  },
  {
   "cell_type": "code",
   "execution_count": null,
   "metadata": {
    "collapsed": true
   },
   "outputs": [],
   "source": [
    "import numpy as np\n",
    "import pandas as pd\n",
    "import re\n",
    "import sys\n",
    "\n",
    "def fileIntegerParser(file, column):\n",
    "\t''' Input (str,str)\n",
    "\tTakes in a .csv file and a column within that .csv file and\n",
    "\tusing regex, grabs all numbers within the column\n",
    "\tand returns the numbers as a list of integers '''\n",
    "\n",
    "\ttry:\n",
    "\n",
    "\t\tdf = pd.read_csv(file)\n",
    "\t\t\n",
    "\t\t# Finding the scores of each game\n",
    "\t\t# Pull all of the scores in the data set\n",
    "\t\ttext = [x for x in df[column] if type(x) == str]\n",
    "\n",
    "\t\tscore_value = re.findall(r'\\d.', str(text))\n",
    "\t\tscore_value = [int(x) for x in score_value]\n",
    "\t\t\n",
    "\t\treturn score_value\n",
    "\n",
    "\texcept TypeError:\n",
    "\t\tprint(\"[fileIntegerParser] Type Error\")\n",
    "\t\tsys.exit(1)\n",
    "\texcept IOError as e:\n",
    "\t\tprint((\"[fileIntegerParser] {} or can\\'t read the data from it\").format(e))\n",
    "\t\tsys.exit(1) \n",
    "\texcept ValueError:\n",
    "\t\tprint(\"[fileIntegerParser] Something went wrong with the file entered, check syntax\")\n",
    "\t\tsys.exit(1)\t\n",
    "\texcept KeyError as e:\n",
    "\t\tprint((\"[fileIntegerParser] {} column was not found in the file\").format(e))\n",
    "\t\tsys.exit(1)\t\n",
    "\texcept:\n",
    "\t\tprint(\"[fileIntegerParser] Something went wrong, check the syntax\")\n",
    "\t\tsys.exit(1)"
   ]
  },
  {
   "cell_type": "markdown",
   "metadata": {},
   "source": [
    "We will use this function throught our analysis. \n",
    "\n",
    "It can be imported with the following code (Note: this code must be in the same location as the code where you invoke it)"
   ]
  },
  {
   "cell_type": "raw",
   "metadata": {},
   "source": [
    "from _nameoffile_ import fileIntegerParser"
   ]
  },
  {
   "cell_type": "markdown",
   "metadata": {},
   "source": [
    "### Visualize the Data"
   ]
  },
  {
   "cell_type": "markdown",
   "metadata": {},
   "source": [
    "Next we will graph the data. I am curious to see how many times a given score has occured. We can easily plot this in Python.\n",
    "\n",
    "First, we Import the required packages"
   ]
  },
  {
   "cell_type": "code",
   "execution_count": 2,
   "metadata": {
    "collapsed": true
   },
   "outputs": [],
   "source": [
    "import matplotlib\n",
    "import matplotlib.pyplot as plt\n",
    "from matplotlib.ticker import FormatStrFormatter\n",
    "import numpy as np\n",
    "import pandas as pd\n",
    "import re"
   ]
  },
  {
   "cell_type": "markdown",
   "metadata": {},
   "source": [
    "Next we import the data, and grab the integer values from the 'scored?' column in our dataset using our wonderful function we created above."
   ]
  },
  {
   "cell_type": "code",
   "execution_count": 3,
   "metadata": {
    "collapsed": true
   },
   "outputs": [],
   "source": [
    "data_file = 'C:/Users/Erik Sorensen/Desktop/Data/Freethedice.com Yahtzee/dataByGameHeldShift.csv'"
   ]
  },
  {
   "cell_type": "code",
   "execution_count": 4,
   "metadata": {
    "collapsed": true
   },
   "outputs": [],
   "source": [
    "scores = fileIntegerParser(data_file,'scored?')"
   ]
  },
  {
   "cell_type": "markdown",
   "metadata": {},
   "source": [
    "Now we will separate the filtered scores into their own bins so that we can graph a histogram. "
   ]
  },
  {
   "cell_type": "code",
   "execution_count": 5,
   "metadata": {
    "collapsed": true
   },
   "outputs": [],
   "source": [
    "count = np.bincount(scores)"
   ]
  },
  {
   "cell_type": "markdown",
   "metadata": {},
   "source": [
    "Now that the data is cleaned, lets start to create our graph!  "
   ]
  },
  {
   "cell_type": "code",
   "execution_count": 6,
   "metadata": {
    "collapsed": true
   },
   "outputs": [],
   "source": [
    "# Change the figure size\n",
    "fig = plt.figure(figsize=(15,5))"
   ]
  },
  {
   "cell_type": "markdown",
   "metadata": {},
   "source": [
    "Now I remove any unecessary chartjunk that clutters the graph:"
   ]
  },
  {
   "cell_type": "code",
   "execution_count": 7,
   "metadata": {
    "collapsed": true
   },
   "outputs": [],
   "source": [
    "# Remove unecessary plot frame lines\n",
    "ax = plt.subplot()\n",
    "ax.spines['top'].set_visible(False)\n",
    "ax.spines['bottom'].set_visible(False)\n",
    "ax.spines['right'].set_visible(False)\n",
    "ax.spines['left'].set_visible(False)\n",
    "\n",
    "# We only need the ticks on the bottom and left of the graph\n",
    "# top and right ticks are unessessary \n",
    "ax.get_yaxis().tick_left()\n",
    "ax.get_xaxis().tick_bottom()\n",
    "\n",
    "# Graph some horizontal dotted lines\n",
    "for y in range(0,8501 ,1000):\n",
    "\tplt.plot(range(0,66), [y] * len(range(0,66)), \"--\",lw=0.5, color=\"black\",alpha=0.3);"
   ]
  },
  {
   "cell_type": "markdown",
   "metadata": {},
   "source": [
    "Now we will plot the axis labels."
   ]
  },
  {
   "cell_type": "code",
   "execution_count": 8,
   "metadata": {
    "collapsed": true,
    "scrolled": true
   },
   "outputs": [],
   "source": [
    "# Label the graph\n",
    "bins = len(count)\n",
    "plt.ylabel('Count', fontsize=12)\n",
    "plt.xlabel('Score', fontsize=12)\n",
    "plt.title('Amount of times a given score occured in games of Yahtzee',fontsize=12)\n",
    "# Plot the axis ticks\n",
    "plt.yticks(range(0,8501,500), fontsize=8)\n",
    "plt.xticks(range(bins),fontsize = 8, ha='center')\n",
    "\n",
    "# set the x axis so it fits the data better\n",
    "ax.set(xlim=[-1,bins]);"
   ]
  },
  {
   "cell_type": "markdown",
   "metadata": {},
   "source": [
    "Add a Title:"
   ]
  },
  {
   "cell_type": "code",
   "execution_count": 12,
   "metadata": {},
   "outputs": [],
   "source": [
    "# Add title to graph\n",
    "plt.text(33,9000, \"Amount of times a given score occured in games of Yahtzee\",\n",
    "\t\tfontsize=16, ha='center');"
   ]
  },
  {
   "cell_type": "markdown",
   "metadata": {},
   "source": [
    "Add credits and an annotation to tell where we got the data:"
   ]
  },
  {
   "cell_type": "code",
   "execution_count": 13,
   "metadata": {},
   "outputs": [],
   "source": [
    "# Add text description to graph\n",
    "plt.text(-5, -1000, \"Data Source: Freethedice.com. Complimentary of Kal\"\n",
    "\t\t\t\t\t\"\\nAuthor: Erik Sorensen (CrypticSl0th)\",\n",
    "\t\t\t\t\tfontsize=8)\n",
    "\n",
    "# Add annotation to graph\n",
    "plt.text(50,7500, \"Sample size is {} scores\".format(len(scores)), \n",
    "\t\tfontsize=9,ha='center');"
   ]
  },
  {
   "cell_type": "markdown",
   "metadata": {},
   "source": [
    "Now we plot the data!"
   ]
  },
  {
   "cell_type": "code",
   "execution_count": 11,
   "metadata": {
    "collapsed": true,
    "scrolled": false
   },
   "outputs": [],
   "source": [
    "# Plot the data in a bar graph\n",
    "plt.bar(range(bins), count, width=1, align='center' ,color='#3F5D7D');"
   ]
  },
  {
   "cell_type": "markdown",
   "metadata": {},
   "source": [
    "![](https://www.dropbox.com/s/dy5s750d2v2kozq/Yahtzee%20Score%20Graph%20Blue.png?dl=0)"
   ]
  },
  {
   "cell_type": "code",
   "execution_count": null,
   "metadata": {
    "collapsed": true
   },
   "outputs": [],
   "source": []
  }
 ],
 "metadata": {
  "kernelspec": {
   "display_name": "Python 3",
   "language": "python",
   "name": "python3"
  },
  "language_info": {
   "codemirror_mode": {
    "name": "ipython",
    "version": 3
   },
   "file_extension": ".py",
   "mimetype": "text/x-python",
   "name": "python",
   "nbconvert_exporter": "python",
   "pygments_lexer": "ipython3",
   "version": "3.6.1"
  }
 },
 "nbformat": 4,
 "nbformat_minor": 2
}
